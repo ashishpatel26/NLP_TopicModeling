{
 "cells": [
  {
   "cell_type": "markdown",
   "metadata": {},
   "source": [
    "## Topic Modeling"
   ]
  },
  {
   "cell_type": "code",
   "execution_count": 1,
   "metadata": {
    "ExecuteTime": {
     "end_time": "2020-03-03T11:09:12.004833Z",
     "start_time": "2020-03-03T11:09:12.001834Z"
    }
   },
   "outputs": [],
   "source": [
    "from pyforest import *"
   ]
  },
  {
   "cell_type": "code",
   "execution_count": 2,
   "metadata": {
    "ExecuteTime": {
     "end_time": "2020-03-03T11:09:13.756757Z",
     "start_time": "2020-03-03T11:09:12.006831Z"
    }
   },
   "outputs": [
    {
     "data": {
      "application/javascript": [
       "\n",
       "        if (window._pyforest_update_imports_cell) { window._pyforest_update_imports_cell('import pandas as pd'); }\n",
       "    "
      ],
      "text/plain": [
       "<IPython.core.display.Javascript object>"
      ]
     },
     "metadata": {},
     "output_type": "display_data"
    },
    {
     "data": {
      "text/html": [
       "<div>\n",
       "<style scoped>\n",
       "    .dataframe tbody tr th:only-of-type {\n",
       "        vertical-align: middle;\n",
       "    }\n",
       "\n",
       "    .dataframe tbody tr th {\n",
       "        vertical-align: top;\n",
       "    }\n",
       "\n",
       "    .dataframe thead th {\n",
       "        text-align: right;\n",
       "    }\n",
       "</style>\n",
       "<table border=\"1\" class=\"dataframe\">\n",
       "  <thead>\n",
       "    <tr style=\"text-align: right;\">\n",
       "      <th></th>\n",
       "      <th>publish_date</th>\n",
       "      <th>headline_text</th>\n",
       "    </tr>\n",
       "  </thead>\n",
       "  <tbody>\n",
       "    <tr>\n",
       "      <th>0</th>\n",
       "      <td>20030219</td>\n",
       "      <td>aba decides against community broadcasting lic...</td>\n",
       "    </tr>\n",
       "    <tr>\n",
       "      <th>1</th>\n",
       "      <td>20030219</td>\n",
       "      <td>act fire witnesses must be aware of defamation</td>\n",
       "    </tr>\n",
       "    <tr>\n",
       "      <th>2</th>\n",
       "      <td>20030219</td>\n",
       "      <td>a g calls for infrastructure protection summit</td>\n",
       "    </tr>\n",
       "    <tr>\n",
       "      <th>3</th>\n",
       "      <td>20030219</td>\n",
       "      <td>air nz staff in aust strike for pay rise</td>\n",
       "    </tr>\n",
       "    <tr>\n",
       "      <th>4</th>\n",
       "      <td>20030219</td>\n",
       "      <td>air nz strike to affect australian travellers</td>\n",
       "    </tr>\n",
       "  </tbody>\n",
       "</table>\n",
       "</div>"
      ],
      "text/plain": [
       "   publish_date                                      headline_text\n",
       "0      20030219  aba decides against community broadcasting lic...\n",
       "1      20030219     act fire witnesses must be aware of defamation\n",
       "2      20030219     a g calls for infrastructure protection summit\n",
       "3      20030219           air nz staff in aust strike for pay rise\n",
       "4      20030219      air nz strike to affect australian travellers"
      ]
     },
     "execution_count": 2,
     "metadata": {},
     "output_type": "execute_result"
    }
   ],
   "source": [
    "data = pd.read_csv(\"abcnews-date-text.csv\", error_bad_lines=False)\n",
    "data.head()"
   ]
  },
  {
   "cell_type": "code",
   "execution_count": 3,
   "metadata": {
    "ExecuteTime": {
     "end_time": "2020-03-03T11:09:13.794733Z",
     "start_time": "2020-03-03T11:09:13.758756Z"
    }
   },
   "outputs": [],
   "source": [
    "data_text = data[['headline_text']]\n",
    "data_text['index'] = data_text.index\n",
    "documents = data_text"
   ]
  },
  {
   "cell_type": "code",
   "execution_count": 4,
   "metadata": {
    "ExecuteTime": {
     "end_time": "2020-03-03T11:09:13.808725Z",
     "start_time": "2020-03-03T11:09:13.796732Z"
    }
   },
   "outputs": [
    {
     "name": "stdout",
     "output_type": "stream",
     "text": [
      "Length of Documents: 1186018\n"
     ]
    },
    {
     "data": {
      "text/html": [
       "<div>\n",
       "<style scoped>\n",
       "    .dataframe tbody tr th:only-of-type {\n",
       "        vertical-align: middle;\n",
       "    }\n",
       "\n",
       "    .dataframe tbody tr th {\n",
       "        vertical-align: top;\n",
       "    }\n",
       "\n",
       "    .dataframe thead th {\n",
       "        text-align: right;\n",
       "    }\n",
       "</style>\n",
       "<table border=\"1\" class=\"dataframe\">\n",
       "  <thead>\n",
       "    <tr style=\"text-align: right;\">\n",
       "      <th></th>\n",
       "      <th>headline_text</th>\n",
       "      <th>index</th>\n",
       "    </tr>\n",
       "  </thead>\n",
       "  <tbody>\n",
       "    <tr>\n",
       "      <th>0</th>\n",
       "      <td>aba decides against community broadcasting lic...</td>\n",
       "      <td>0</td>\n",
       "    </tr>\n",
       "    <tr>\n",
       "      <th>1</th>\n",
       "      <td>act fire witnesses must be aware of defamation</td>\n",
       "      <td>1</td>\n",
       "    </tr>\n",
       "    <tr>\n",
       "      <th>2</th>\n",
       "      <td>a g calls for infrastructure protection summit</td>\n",
       "      <td>2</td>\n",
       "    </tr>\n",
       "    <tr>\n",
       "      <th>3</th>\n",
       "      <td>air nz staff in aust strike for pay rise</td>\n",
       "      <td>3</td>\n",
       "    </tr>\n",
       "    <tr>\n",
       "      <th>4</th>\n",
       "      <td>air nz strike to affect australian travellers</td>\n",
       "      <td>4</td>\n",
       "    </tr>\n",
       "  </tbody>\n",
       "</table>\n",
       "</div>"
      ],
      "text/plain": [
       "                                       headline_text  index\n",
       "0  aba decides against community broadcasting lic...      0\n",
       "1     act fire witnesses must be aware of defamation      1\n",
       "2     a g calls for infrastructure protection summit      2\n",
       "3           air nz staff in aust strike for pay rise      3\n",
       "4      air nz strike to affect australian travellers      4"
      ]
     },
     "execution_count": 4,
     "metadata": {},
     "output_type": "execute_result"
    }
   ],
   "source": [
    "print(f\"Length of Documents: {len(documents)}\")\n",
    "documents[:5]"
   ]
  },
  {
   "cell_type": "markdown",
   "metadata": {},
   "source": [
    "# Data Pre-processing\n",
    "\n",
    "We will perform the following steps:\n",
    "\n",
    "- **Tokenization**: Split the text into sentences and the sentences into words. Lowercase the words and remove punctuation.\n",
    "- Words that have fewer than 3 characters are removed.\n",
    "- All **stopwords** are removed.\n",
    "- Words are **lemmatized** — words in third person are changed to first person and verbs in past and future tenses are changed into present.\n",
    "- Words are **stemmed** — words are reduced to their root form."
   ]
  },
  {
   "cell_type": "code",
   "execution_count": 30,
   "metadata": {
    "ExecuteTime": {
     "end_time": "2020-03-03T11:22:20.921284Z",
     "start_time": "2020-03-03T11:22:20.913288Z"
    }
   },
   "outputs": [
    {
     "name": "stderr",
     "output_type": "stream",
     "text": [
      "[nltk_data] Downloading package wordnet to C:\\Users\\Ashish\n",
      "[nltk_data]     Patel\\AppData\\Roaming\\nltk_data...\n",
      "[nltk_data]   Package wordnet is already up-to-date!\n"
     ]
    },
    {
     "data": {
      "text/plain": [
       "True"
      ]
     },
     "execution_count": 30,
     "metadata": {},
     "output_type": "execute_result"
    }
   ],
   "source": [
    "import gensim\n",
    "from gensim.utils import simple_preprocess\n",
    "from gensim.parsing.preprocessing import STOPWORDS\n",
    "from nltk.stem import WordNetLemmatizer, SnowballStemmer\n",
    "from nltk.stem.porter import *\n",
    "import numpy as np\n",
    "np.random.seed(2018)\n",
    "import nltk\n",
    "nltk.download('wordnet')"
   ]
  },
  {
   "cell_type": "markdown",
   "metadata": {},
   "source": [
    "### Lemmitize Example"
   ]
  },
  {
   "cell_type": "code",
   "execution_count": 38,
   "metadata": {
    "ExecuteTime": {
     "end_time": "2020-03-03T11:33:34.760834Z",
     "start_time": "2020-03-03T11:33:34.756838Z"
    }
   },
   "outputs": [
    {
     "name": "stdout",
     "output_type": "stream",
     "text": [
      "go\n"
     ]
    }
   ],
   "source": [
    "print(WordNetLemmatizer().lemmatize('went', pos='v'))"
   ]
  },
  {
   "cell_type": "markdown",
   "metadata": {},
   "source": [
    "### Stemmer Example"
   ]
  },
  {
   "cell_type": "code",
   "execution_count": 39,
   "metadata": {
    "ExecuteTime": {
     "end_time": "2020-03-03T11:33:56.643422Z",
     "start_time": "2020-03-03T11:33:56.626432Z"
    }
   },
   "outputs": [
    {
     "data": {
      "application/javascript": [
       "\n",
       "        if (window._pyforest_update_imports_cell) { window._pyforest_update_imports_cell('import pandas as pd'); }\n",
       "    "
      ],
      "text/plain": [
       "<IPython.core.display.Javascript object>"
      ]
     },
     "metadata": {},
     "output_type": "display_data"
    },
    {
     "data": {
      "text/html": [
       "<div>\n",
       "<style scoped>\n",
       "    .dataframe tbody tr th:only-of-type {\n",
       "        vertical-align: middle;\n",
       "    }\n",
       "\n",
       "    .dataframe tbody tr th {\n",
       "        vertical-align: top;\n",
       "    }\n",
       "\n",
       "    .dataframe thead th {\n",
       "        text-align: right;\n",
       "    }\n",
       "</style>\n",
       "<table border=\"1\" class=\"dataframe\">\n",
       "  <thead>\n",
       "    <tr style=\"text-align: right;\">\n",
       "      <th></th>\n",
       "      <th>original word</th>\n",
       "      <th>stemmed</th>\n",
       "    </tr>\n",
       "  </thead>\n",
       "  <tbody>\n",
       "    <tr>\n",
       "      <th>0</th>\n",
       "      <td>caresses</td>\n",
       "      <td>caress</td>\n",
       "    </tr>\n",
       "    <tr>\n",
       "      <th>1</th>\n",
       "      <td>flies</td>\n",
       "      <td>fli</td>\n",
       "    </tr>\n",
       "    <tr>\n",
       "      <th>2</th>\n",
       "      <td>dies</td>\n",
       "      <td>die</td>\n",
       "    </tr>\n",
       "    <tr>\n",
       "      <th>3</th>\n",
       "      <td>mules</td>\n",
       "      <td>mule</td>\n",
       "    </tr>\n",
       "    <tr>\n",
       "      <th>4</th>\n",
       "      <td>denied</td>\n",
       "      <td>deni</td>\n",
       "    </tr>\n",
       "    <tr>\n",
       "      <th>5</th>\n",
       "      <td>died</td>\n",
       "      <td>die</td>\n",
       "    </tr>\n",
       "    <tr>\n",
       "      <th>6</th>\n",
       "      <td>agreed</td>\n",
       "      <td>agre</td>\n",
       "    </tr>\n",
       "    <tr>\n",
       "      <th>7</th>\n",
       "      <td>owned</td>\n",
       "      <td>own</td>\n",
       "    </tr>\n",
       "    <tr>\n",
       "      <th>8</th>\n",
       "      <td>humbled</td>\n",
       "      <td>humbl</td>\n",
       "    </tr>\n",
       "    <tr>\n",
       "      <th>9</th>\n",
       "      <td>sized</td>\n",
       "      <td>size</td>\n",
       "    </tr>\n",
       "    <tr>\n",
       "      <th>10</th>\n",
       "      <td>meeting</td>\n",
       "      <td>meet</td>\n",
       "    </tr>\n",
       "    <tr>\n",
       "      <th>11</th>\n",
       "      <td>stating</td>\n",
       "      <td>state</td>\n",
       "    </tr>\n",
       "    <tr>\n",
       "      <th>12</th>\n",
       "      <td>siezing</td>\n",
       "      <td>siez</td>\n",
       "    </tr>\n",
       "    <tr>\n",
       "      <th>13</th>\n",
       "      <td>itemization</td>\n",
       "      <td>item</td>\n",
       "    </tr>\n",
       "    <tr>\n",
       "      <th>14</th>\n",
       "      <td>sensational</td>\n",
       "      <td>sensat</td>\n",
       "    </tr>\n",
       "    <tr>\n",
       "      <th>15</th>\n",
       "      <td>traditional</td>\n",
       "      <td>tradit</td>\n",
       "    </tr>\n",
       "    <tr>\n",
       "      <th>16</th>\n",
       "      <td>reference</td>\n",
       "      <td>refer</td>\n",
       "    </tr>\n",
       "    <tr>\n",
       "      <th>17</th>\n",
       "      <td>colonizer</td>\n",
       "      <td>colon</td>\n",
       "    </tr>\n",
       "    <tr>\n",
       "      <th>18</th>\n",
       "      <td>plotted</td>\n",
       "      <td>plot</td>\n",
       "    </tr>\n",
       "  </tbody>\n",
       "</table>\n",
       "</div>"
      ],
      "text/plain": [
       "   original word stemmed\n",
       "0       caresses  caress\n",
       "1          flies     fli\n",
       "2           dies     die\n",
       "3          mules    mule\n",
       "4         denied    deni\n",
       "5           died     die\n",
       "6         agreed    agre\n",
       "7          owned     own\n",
       "8        humbled   humbl\n",
       "9          sized    size\n",
       "10       meeting    meet\n",
       "11       stating   state\n",
       "12       siezing    siez\n",
       "13   itemization    item\n",
       "14   sensational  sensat\n",
       "15   traditional  tradit\n",
       "16     reference   refer\n",
       "17     colonizer   colon\n",
       "18       plotted    plot"
      ]
     },
     "execution_count": 39,
     "metadata": {},
     "output_type": "execute_result"
    }
   ],
   "source": [
    "stemmer = SnowballStemmer('english')\n",
    "original_words = [\n",
    "    'caresses', 'flies', 'dies', 'mules', 'denied', 'died', 'agreed', 'owned',\n",
    "    'humbled', 'sized', 'meeting', 'stating', 'siezing', 'itemization',\n",
    "    'sensational', 'traditional', 'reference', 'colonizer', 'plotted'\n",
    "]\n",
    "singles = [stemmer.stem(plural) for plural in original_words]\n",
    "pd.DataFrame(data={'original word': original_words, 'stemmed': singles})"
   ]
  },
  {
   "cell_type": "code",
   "execution_count": 45,
   "metadata": {
    "ExecuteTime": {
     "end_time": "2020-03-03T11:35:56.174659Z",
     "start_time": "2020-03-03T11:35:56.168664Z"
    }
   },
   "outputs": [],
   "source": [
    "def lemmatize_stemming(text):\n",
    "    return stemmer.stem(WordNetLemmatizer().lemmatize(text, pos='v'))\n",
    "\n",
    "\n",
    "def preprocess(text):\n",
    "    result = []\n",
    "    for token in gensim.utils.simple_preprocess(text):\n",
    "        if token not in gensim.parsing.preprocessing.STOPWORDS and len(\n",
    "                token) > 3:\n",
    "            result.append(lemmatize_stemming(token))\n",
    "    return result"
   ]
  },
  {
   "cell_type": "code",
   "execution_count": 46,
   "metadata": {
    "ExecuteTime": {
     "end_time": "2020-03-03T11:35:56.624379Z",
     "start_time": "2020-03-03T11:35:56.616385Z"
    }
   },
   "outputs": [],
   "source": [
    "doc_sample = documents[documents['index'] == 4310].values[0][0]"
   ]
  },
  {
   "cell_type": "code",
   "execution_count": 48,
   "metadata": {
    "ExecuteTime": {
     "end_time": "2020-03-03T11:36:10.459392Z",
     "start_time": "2020-03-03T11:36:10.448399Z"
    }
   },
   "outputs": [
    {
     "name": "stdout",
     "output_type": "stream",
     "text": [
      "original document: \n",
      "['rain', 'helps', 'dampen', 'bushfires']\n",
      "\n",
      "\n",
      " tokenized and lemmatized document: \n",
      "['rain', 'help', 'dampen', 'bushfir']\n"
     ]
    }
   ],
   "source": [
    "doc_sample = documents[documents['index'] == 4309].values[0][0]\n",
    "\n",
    "print('original document: ')\n",
    "words = []\n",
    "for word in doc_sample.split(' '):\n",
    "    words.append(word)\n",
    "print(words)\n",
    "print('\\n\\n tokenized and lemmatized document: ')\n",
    "print(preprocess(doc_sample))"
   ]
  },
  {
   "cell_type": "code",
   "execution_count": 52,
   "metadata": {
    "ExecuteTime": {
     "end_time": "2020-03-03T11:42:56.367148Z",
     "start_time": "2020-03-03T11:39:55.776692Z"
    }
   },
   "outputs": [],
   "source": [
    "processed_docs = documents['headline_text'].map(preprocess)"
   ]
  },
  {
   "cell_type": "code",
   "execution_count": 53,
   "metadata": {
    "ExecuteTime": {
     "end_time": "2020-03-03T11:49:19.719571Z",
     "start_time": "2020-03-03T11:49:19.710576Z"
    }
   },
   "outputs": [
    {
     "data": {
      "text/plain": [
       "0            [decid, communiti, broadcast, licenc]\n",
       "1                               [wit, awar, defam]\n",
       "2           [call, infrastructur, protect, summit]\n",
       "3                      [staff, aust, strike, rise]\n",
       "4             [strike, affect, australian, travel]\n",
       "5               [ambiti, olsson, win, tripl, jump]\n",
       "6           [antic, delight, record, break, barca]\n",
       "7    [aussi, qualifi, stosur, wast, memphi, match]\n",
       "8            [aust, address, secur, council, iraq]\n",
       "9                         [australia, lock, timet]\n",
       "Name: headline_text, dtype: object"
      ]
     },
     "execution_count": 53,
     "metadata": {},
     "output_type": "execute_result"
    }
   ],
   "source": [
    "processed_docs[:10]"
   ]
  },
  {
   "cell_type": "markdown",
   "metadata": {},
   "source": [
    "### Bag of words on the dataset"
   ]
  },
  {
   "cell_type": "code",
   "execution_count": 54,
   "metadata": {
    "ExecuteTime": {
     "end_time": "2020-03-03T11:50:38.488728Z",
     "start_time": "2020-03-03T11:50:16.038650Z"
    }
   },
   "outputs": [],
   "source": [
    "dictionary = gensim.corpora.Dictionary(processed_docs)"
   ]
  },
  {
   "cell_type": "code",
   "execution_count": 55,
   "metadata": {
    "ExecuteTime": {
     "end_time": "2020-03-03T11:50:38.646631Z",
     "start_time": "2020-03-03T11:50:38.608655Z"
    }
   },
   "outputs": [
    {
     "name": "stdout",
     "output_type": "stream",
     "text": [
      "0 broadcast\n",
      "1 communiti\n",
      "2 decid\n",
      "3 licenc\n",
      "4 awar\n",
      "5 defam\n",
      "6 wit\n",
      "7 call\n",
      "8 infrastructur\n",
      "9 protect\n",
      "10 summit\n"
     ]
    }
   ],
   "source": [
    "count = 0\n",
    "for k, v in dictionary.iteritems():\n",
    "    print(k, v)\n",
    "    count += 1\n",
    "    if count > 10:\n",
    "        break"
   ]
  },
  {
   "cell_type": "code",
   "execution_count": 56,
   "metadata": {
    "ExecuteTime": {
     "end_time": "2020-03-03T11:50:49.567859Z",
     "start_time": "2020-03-03T11:50:49.421949Z"
    }
   },
   "outputs": [],
   "source": [
    "dictionary.filter_extremes(no_below=15, no_above=0.5, keep_n=100000)"
   ]
  },
  {
   "cell_type": "code",
   "execution_count": 58,
   "metadata": {
    "ExecuteTime": {
     "end_time": "2020-03-03T11:51:34.119235Z",
     "start_time": "2020-03-03T11:51:23.309938Z"
    }
   },
   "outputs": [
    {
     "data": {
      "text/plain": [
       "[(76, 1), (112, 1), (484, 1), (4038, 1)]"
      ]
     },
     "execution_count": 58,
     "metadata": {},
     "output_type": "execute_result"
    }
   ],
   "source": [
    "bow_corpus = [dictionary.doc2bow(doc) for doc in processed_docs]\n",
    "bow_corpus[4309]"
   ]
  },
  {
   "cell_type": "code",
   "execution_count": 60,
   "metadata": {
    "ExecuteTime": {
     "end_time": "2020-03-03T11:52:04.159607Z",
     "start_time": "2020-03-03T11:52:04.153610Z"
    }
   },
   "outputs": [
    {
     "name": "stdout",
     "output_type": "stream",
     "text": [
      "Word 76 (\"bushfir\") appears 1 time.\n",
      "Word 112 (\"help\") appears 1 time.\n",
      "Word 484 (\"rain\") appears 1 time.\n",
      "Word 4038 (\"dampen\") appears 1 time.\n"
     ]
    }
   ],
   "source": [
    "bow_doc_4310 = bow_corpus[4309]\n",
    "\n",
    "for i in range(len(bow_doc_4310)):\n",
    "    print(\"Word {} (\\\"{}\\\") appears {} time.\".format(\n",
    "        bow_doc_4310[i][0], dictionary[bow_doc_4310[i][0]],\n",
    "        bow_doc_4310[i][1]))"
   ]
  },
  {
   "cell_type": "markdown",
   "metadata": {},
   "source": [
    "### TF-IDF"
   ]
  },
  {
   "cell_type": "code",
   "execution_count": 61,
   "metadata": {
    "ExecuteTime": {
     "end_time": "2020-03-03T11:52:31.719518Z",
     "start_time": "2020-03-03T11:52:30.068541Z"
    }
   },
   "outputs": [],
   "source": [
    "from gensim import corpora, models\n",
    "\n",
    "tfidf = models.TfidfModel(bow_corpus)"
   ]
  },
  {
   "cell_type": "code",
   "execution_count": 62,
   "metadata": {
    "ExecuteTime": {
     "end_time": "2020-03-03T11:52:46.620278Z",
     "start_time": "2020-03-03T11:52:46.616281Z"
    }
   },
   "outputs": [],
   "source": [
    "corpus_tfidf = tfidf[bow_corpus]"
   ]
  },
  {
   "cell_type": "code",
   "execution_count": 63,
   "metadata": {
    "ExecuteTime": {
     "end_time": "2020-03-03T11:53:01.409108Z",
     "start_time": "2020-03-03T11:53:01.403112Z"
    }
   },
   "outputs": [
    {
     "name": "stdout",
     "output_type": "stream",
     "text": [
      "[(0, 0.5850076620505259),\n",
      " (1, 0.38947256567331934),\n",
      " (2, 0.4997099083387053),\n",
      " (3, 0.5063271308533074)]\n"
     ]
    }
   ],
   "source": [
    "from pprint import pprint\n",
    "\n",
    "for doc in corpus_tfidf:\n",
    "    pprint(doc)\n",
    "    break"
   ]
  },
  {
   "cell_type": "markdown",
   "metadata": {},
   "source": [
    "### Running LDA using Bag of Words"
   ]
  },
  {
   "cell_type": "code",
   "execution_count": 64,
   "metadata": {
    "ExecuteTime": {
     "end_time": "2020-03-03T11:59:22.514796Z",
     "start_time": "2020-03-03T11:55:04.691665Z"
    }
   },
   "outputs": [],
   "source": [
    "lda_model = gensim.models.LdaMulticore(bow_corpus,\n",
    "                                       num_topics=10,\n",
    "                                       id2word=dictionary,\n",
    "                                       passes=2,\n",
    "                                       workers=2)"
   ]
  },
  {
   "cell_type": "code",
   "execution_count": 65,
   "metadata": {
    "ExecuteTime": {
     "end_time": "2020-03-03T11:59:37.471523Z",
     "start_time": "2020-03-03T11:59:37.460530Z"
    }
   },
   "outputs": [
    {
     "name": "stdout",
     "output_type": "stream",
     "text": [
      "Topic: 0 \n",
      "Words: 0.023*\"hous\" + 0.022*\"south\" + 0.020*\"north\" + 0.017*\"bushfir\" + 0.016*\"miss\" + 0.013*\"interview\" + 0.012*\"west\" + 0.012*\"hospit\" + 0.011*\"coast\" + 0.010*\"investig\"\n",
      "Topic: 1 \n",
      "Words: 0.032*\"kill\" + 0.023*\"shoot\" + 0.021*\"protest\" + 0.021*\"dead\" + 0.020*\"attack\" + 0.020*\"polic\" + 0.014*\"offic\" + 0.014*\"assault\" + 0.011*\"michael\" + 0.011*\"bank\"\n",
      "Topic: 2 \n",
      "Words: 0.057*\"australia\" + 0.046*\"australian\" + 0.026*\"world\" + 0.018*\"canberra\" + 0.017*\"test\" + 0.013*\"win\" + 0.011*\"final\" + 0.011*\"farm\" + 0.010*\"return\" + 0.009*\"beat\"\n",
      "Topic: 3 \n",
      "Words: 0.030*\"polic\" + 0.029*\"charg\" + 0.026*\"court\" + 0.024*\"death\" + 0.024*\"murder\" + 0.020*\"woman\" + 0.020*\"crash\" + 0.017*\"face\" + 0.016*\"alleg\" + 0.013*\"trial\"\n",
      "Topic: 4 \n",
      "Words: 0.019*\"chang\" + 0.019*\"say\" + 0.015*\"speak\" + 0.015*\"power\" + 0.013*\"worker\" + 0.012*\"climat\" + 0.012*\"concern\" + 0.011*\"flood\" + 0.011*\"save\" + 0.011*\"fear\"\n",
      "Topic: 5 \n",
      "Words: 0.021*\"market\" + 0.020*\"news\" + 0.018*\"women\" + 0.018*\"live\" + 0.016*\"tasmania\" + 0.013*\"high\" + 0.013*\"rise\" + 0.012*\"price\" + 0.012*\"lose\" + 0.012*\"break\"\n",
      "Topic: 6 \n",
      "Words: 0.035*\"elect\" + 0.018*\"water\" + 0.017*\"state\" + 0.015*\"tasmanian\" + 0.012*\"labor\" + 0.011*\"liber\" + 0.011*\"morrison\" + 0.010*\"parti\" + 0.010*\"leader\" + 0.010*\"campaign\"\n",
      "Topic: 7 \n",
      "Words: 0.020*\"donald\" + 0.014*\"farmer\" + 0.014*\"nation\" + 0.013*\"time\" + 0.013*\"rural\" + 0.013*\"council\" + 0.012*\"indigen\" + 0.011*\"school\" + 0.011*\"commiss\" + 0.011*\"plan\"\n",
      "Topic: 8 \n",
      "Words: 0.044*\"trump\" + 0.037*\"year\" + 0.035*\"sydney\" + 0.028*\"queensland\" + 0.022*\"home\" + 0.021*\"adelaid\" + 0.018*\"perth\" + 0.016*\"brisban\" + 0.015*\"leav\" + 0.015*\"peopl\"\n",
      "Topic: 9 \n",
      "Words: 0.031*\"govern\" + 0.020*\"warn\" + 0.018*\"feder\" + 0.015*\"countri\" + 0.015*\"fund\" + 0.014*\"claim\" + 0.014*\"life\" + 0.012*\"say\" + 0.012*\"stori\" + 0.012*\"health\"\n"
     ]
    }
   ],
   "source": [
    "for idx, topic in lda_model.print_topics(-1):\n",
    "    print('Topic: {} \\nWords: {}'.format(idx, topic))"
   ]
  },
  {
   "cell_type": "code",
   "execution_count": 66,
   "metadata": {
    "ExecuteTime": {
     "end_time": "2020-03-03T12:03:44.127578Z",
     "start_time": "2020-03-03T12:00:03.864158Z"
    }
   },
   "outputs": [],
   "source": [
    "lda_model_tfidf = gensim.models.LdaMulticore(corpus_tfidf,\n",
    "                                             num_topics=10,\n",
    "                                             id2word=dictionary,\n",
    "                                             passes=2,\n",
    "                                             workers=4)"
   ]
  },
  {
   "cell_type": "code",
   "execution_count": 67,
   "metadata": {
    "ExecuteTime": {
     "end_time": "2020-03-03T12:03:58.845453Z",
     "start_time": "2020-03-03T12:03:58.835459Z"
    }
   },
   "outputs": [
    {
     "name": "stdout",
     "output_type": "stream",
     "text": [
      "Topic: 0 Word: 0.014*\"market\" + 0.011*\"stori\" + 0.009*\"tuesday\" + 0.009*\"share\" + 0.009*\"friday\" + 0.008*\"australian\" + 0.007*\"peter\" + 0.007*\"dollar\" + 0.006*\"financ\" + 0.006*\"novemb\"\n",
      "Topic: 1 Word: 0.009*\"michael\" + 0.009*\"wall\" + 0.008*\"street\" + 0.007*\"inquest\" + 0.006*\"june\" + 0.006*\"tree\" + 0.006*\"know\" + 0.006*\"hong\" + 0.006*\"john\" + 0.006*\"kong\"\n",
      "Topic: 2 Word: 0.009*\"monday\" + 0.009*\"kill\" + 0.009*\"thursday\" + 0.008*\"grandstand\" + 0.007*\"insid\" + 0.006*\"syria\" + 0.006*\"quiz\" + 0.006*\"babi\" + 0.006*\"mother\" + 0.005*\"victorian\"\n",
      "Topic: 3 Word: 0.026*\"news\" + 0.013*\"interview\" + 0.011*\"search\" + 0.010*\"miss\" + 0.009*\"hobart\" + 0.009*\"david\" + 0.008*\"beach\" + 0.007*\"speak\" + 0.007*\"busi\" + 0.007*\"mark\"\n",
      "Topic: 4 Word: 0.010*\"world\" + 0.010*\"australia\" + 0.009*\"final\" + 0.009*\"queensland\" + 0.008*\"leagu\" + 0.007*\"scott\" + 0.007*\"test\" + 0.007*\"cricket\" + 0.006*\"beat\" + 0.006*\"rugbi\"\n",
      "Topic: 5 Word: 0.018*\"polic\" + 0.018*\"charg\" + 0.015*\"murder\" + 0.012*\"woman\" + 0.011*\"alleg\" + 0.010*\"court\" + 0.010*\"crash\" + 0.009*\"shoot\" + 0.009*\"jail\" + 0.009*\"arrest\"\n",
      "Topic: 6 Word: 0.015*\"rural\" + 0.014*\"countri\" + 0.010*\"hour\" + 0.010*\"drum\" + 0.009*\"govern\" + 0.007*\"fund\" + 0.006*\"nation\" + 0.006*\"water\" + 0.005*\"drought\" + 0.005*\"christma\"\n",
      "Topic: 7 Word: 0.027*\"trump\" + 0.015*\"donald\" + 0.009*\"commiss\" + 0.009*\"royal\" + 0.008*\"turnbul\" + 0.007*\"farm\" + 0.006*\"coal\" + 0.005*\"energi\" + 0.005*\"malcolm\" + 0.005*\"say\"\n",
      "Topic: 8 Word: 0.015*\"elect\" + 0.008*\"labor\" + 0.008*\"polit\" + 0.008*\"climat\" + 0.008*\"liber\" + 0.007*\"parti\" + 0.007*\"say\" + 0.007*\"senat\" + 0.006*\"chang\" + 0.006*\"juli\"\n",
      "Topic: 9 Word: 0.010*\"weather\" + 0.010*\"sentenc\" + 0.009*\"wednesday\" + 0.008*\"morrison\" + 0.008*\"sport\" + 0.008*\"mental\" + 0.007*\"zealand\" + 0.007*\"tasmania\" + 0.007*\"histori\" + 0.007*\"outback\"\n"
     ]
    }
   ],
   "source": [
    "for idx, topic in lda_model_tfidf.print_topics(-1):\n",
    "    print('Topic: {} Word: {}'.format(idx, topic))"
   ]
  },
  {
   "cell_type": "code",
   "execution_count": 68,
   "metadata": {
    "ExecuteTime": {
     "end_time": "2020-03-03T12:08:54.503124Z",
     "start_time": "2020-03-03T12:05:01.724463Z"
    }
   },
   "outputs": [],
   "source": [
    "lda_model_tfidf = gensim.models.LdaMulticore(corpus_tfidf,\n",
    "                                             num_topics=10,\n",
    "                                             id2word=dictionary,\n",
    "                                             passes=2,\n",
    "                                             workers=4)"
   ]
  },
  {
   "cell_type": "code",
   "execution_count": 69,
   "metadata": {
    "ExecuteTime": {
     "end_time": "2020-03-03T12:09:09.205009Z",
     "start_time": "2020-03-03T12:09:09.196015Z"
    }
   },
   "outputs": [
    {
     "name": "stdout",
     "output_type": "stream",
     "text": [
      "Topic: 0 Word: 0.016*\"news\" + 0.016*\"rural\" + 0.010*\"market\" + 0.010*\"price\" + 0.008*\"busi\" + 0.007*\"nation\" + 0.007*\"scott\" + 0.006*\"share\" + 0.006*\"sport\" + 0.006*\"mental\"\n",
      "Topic: 1 Word: 0.012*\"bushfir\" + 0.010*\"weather\" + 0.008*\"david\" + 0.007*\"northern\" + 0.006*\"queensland\" + 0.006*\"victoria\" + 0.006*\"april\" + 0.005*\"territori\" + 0.005*\"farm\" + 0.005*\"wild\"\n",
      "Topic: 2 Word: 0.010*\"friday\" + 0.010*\"john\" + 0.009*\"violenc\" + 0.008*\"juli\" + 0.007*\"andrew\" + 0.007*\"august\" + 0.006*\"domest\" + 0.006*\"cancer\" + 0.005*\"flight\" + 0.005*\"patient\"\n",
      "Topic: 3 Word: 0.011*\"final\" + 0.010*\"world\" + 0.009*\"australia\" + 0.007*\"leagu\" + 0.007*\"cricket\" + 0.007*\"win\" + 0.007*\"grandstand\" + 0.006*\"open\" + 0.006*\"financ\" + 0.006*\"australian\"\n",
      "Topic: 4 Word: 0.018*\"countri\" + 0.013*\"hour\" + 0.011*\"royal\" + 0.010*\"commiss\" + 0.009*\"climat\" + 0.007*\"care\" + 0.006*\"zealand\" + 0.006*\"rugbi\" + 0.006*\"australia\" + 0.006*\"age\"\n",
      "Topic: 5 Word: 0.017*\"interview\" + 0.016*\"crash\" + 0.013*\"drum\" + 0.010*\"polic\" + 0.009*\"street\" + 0.008*\"tuesday\" + 0.008*\"coast\" + 0.008*\"dead\" + 0.008*\"shoot\" + 0.008*\"christma\"\n",
      "Topic: 6 Word: 0.012*\"stori\" + 0.008*\"michael\" + 0.006*\"council\" + 0.006*\"jam\" + 0.006*\"centr\" + 0.006*\"know\" + 0.005*\"govern\" + 0.005*\"money\" + 0.005*\"quiz\" + 0.005*\"ash\"\n",
      "Topic: 7 Word: 0.019*\"charg\" + 0.018*\"murder\" + 0.013*\"court\" + 0.013*\"alleg\" + 0.013*\"polic\" + 0.010*\"woman\" + 0.010*\"jail\" + 0.010*\"sentenc\" + 0.009*\"guilti\" + 0.009*\"accus\"\n",
      "Topic: 8 Word: 0.024*\"trump\" + 0.013*\"elect\" + 0.013*\"donald\" + 0.010*\"govern\" + 0.008*\"labor\" + 0.007*\"wednesday\" + 0.007*\"say\" + 0.007*\"thursday\" + 0.007*\"liber\" + 0.006*\"feder\"\n",
      "Topic: 9 Word: 0.008*\"monday\" + 0.008*\"live\" + 0.007*\"protest\" + 0.006*\"kill\" + 0.006*\"australia\" + 0.006*\"presid\" + 0.006*\"turnbul\" + 0.006*\"novemb\" + 0.006*\"indonesia\" + 0.005*\"syria\"\n"
     ]
    }
   ],
   "source": [
    "for idx, topic in lda_model_tfidf.print_topics(-1):\n",
    "    print('Topic: {} Word: {}'.format(idx, topic))"
   ]
  },
  {
   "cell_type": "markdown",
   "metadata": {},
   "source": [
    "## Classification of the topics\n",
    "Performance evaluation by classifying sample document using LDA Bag of Words model"
   ]
  },
  {
   "cell_type": "code",
   "execution_count": 70,
   "metadata": {
    "ExecuteTime": {
     "end_time": "2020-03-03T12:09:23.900896Z",
     "start_time": "2020-03-03T12:09:23.889902Z"
    }
   },
   "outputs": [
    {
     "data": {
      "text/plain": [
       "['rain', 'help', 'dampen', 'bushfir']"
      ]
     },
     "execution_count": 70,
     "metadata": {},
     "output_type": "execute_result"
    }
   ],
   "source": [
    "processed_docs[4309]"
   ]
  },
  {
   "cell_type": "code",
   "execution_count": 71,
   "metadata": {
    "ExecuteTime": {
     "end_time": "2020-03-03T12:09:38.667740Z",
     "start_time": "2020-03-03T12:09:38.650751Z"
    }
   },
   "outputs": [
    {
     "name": "stdout",
     "output_type": "stream",
     "text": [
      "\n",
      "Score: 0.45221951603889465\t \n",
      "Topic: 0.020*\"donald\" + 0.014*\"farmer\" + 0.014*\"nation\" + 0.013*\"time\" + 0.013*\"rural\" + 0.013*\"council\" + 0.012*\"indigen\" + 0.011*\"school\" + 0.011*\"commiss\" + 0.011*\"plan\"\n",
      "\n",
      "Score: 0.44774875044822693\t \n",
      "Topic: 0.031*\"govern\" + 0.020*\"warn\" + 0.018*\"feder\" + 0.015*\"countri\" + 0.015*\"fund\" + 0.014*\"claim\" + 0.014*\"life\" + 0.012*\"say\" + 0.012*\"stori\" + 0.012*\"health\"\n",
      "\n",
      "Score: 0.012506862170994282\t \n",
      "Topic: 0.035*\"elect\" + 0.018*\"water\" + 0.017*\"state\" + 0.015*\"tasmanian\" + 0.012*\"labor\" + 0.011*\"liber\" + 0.011*\"morrison\" + 0.010*\"parti\" + 0.010*\"leader\" + 0.010*\"campaign\"\n",
      "\n",
      "Score: 0.012503857724368572\t \n",
      "Topic: 0.019*\"chang\" + 0.019*\"say\" + 0.015*\"speak\" + 0.015*\"power\" + 0.013*\"worker\" + 0.012*\"climat\" + 0.012*\"concern\" + 0.011*\"flood\" + 0.011*\"save\" + 0.011*\"fear\"\n",
      "\n",
      "Score: 0.01250350009649992\t \n",
      "Topic: 0.023*\"hous\" + 0.022*\"south\" + 0.020*\"north\" + 0.017*\"bushfir\" + 0.016*\"miss\" + 0.013*\"interview\" + 0.012*\"west\" + 0.012*\"hospit\" + 0.011*\"coast\" + 0.010*\"investig\"\n",
      "\n",
      "Score: 0.01250350009649992\t \n",
      "Topic: 0.032*\"kill\" + 0.023*\"shoot\" + 0.021*\"protest\" + 0.021*\"dead\" + 0.020*\"attack\" + 0.020*\"polic\" + 0.014*\"offic\" + 0.014*\"assault\" + 0.011*\"michael\" + 0.011*\"bank\"\n",
      "\n",
      "Score: 0.01250350009649992\t \n",
      "Topic: 0.057*\"australia\" + 0.046*\"australian\" + 0.026*\"world\" + 0.018*\"canberra\" + 0.017*\"test\" + 0.013*\"win\" + 0.011*\"final\" + 0.011*\"farm\" + 0.010*\"return\" + 0.009*\"beat\"\n",
      "\n",
      "Score: 0.01250350009649992\t \n",
      "Topic: 0.030*\"polic\" + 0.029*\"charg\" + 0.026*\"court\" + 0.024*\"death\" + 0.024*\"murder\" + 0.020*\"woman\" + 0.020*\"crash\" + 0.017*\"face\" + 0.016*\"alleg\" + 0.013*\"trial\"\n",
      "\n",
      "Score: 0.01250350009649992\t \n",
      "Topic: 0.021*\"market\" + 0.020*\"news\" + 0.018*\"women\" + 0.018*\"live\" + 0.016*\"tasmania\" + 0.013*\"high\" + 0.013*\"rise\" + 0.012*\"price\" + 0.012*\"lose\" + 0.012*\"break\"\n",
      "\n",
      "Score: 0.01250350009649992\t \n",
      "Topic: 0.044*\"trump\" + 0.037*\"year\" + 0.035*\"sydney\" + 0.028*\"queensland\" + 0.022*\"home\" + 0.021*\"adelaid\" + 0.018*\"perth\" + 0.016*\"brisban\" + 0.015*\"leav\" + 0.015*\"peopl\"\n"
     ]
    }
   ],
   "source": [
    "for index, score in sorted(lda_model[bow_corpus[4310]],\n",
    "                           key=lambda tup: -1 * tup[1]):\n",
    "    print(\"\\nScore: {}\\t \\nTopic: {}\".format(score,\n",
    "                                             lda_model.print_topic(index, 10)))"
   ]
  },
  {
   "cell_type": "markdown",
   "metadata": {},
   "source": [
    "### Performance evaluation by classifying sample document using LDA TF-IDF model"
   ]
  },
  {
   "cell_type": "code",
   "execution_count": 72,
   "metadata": {
    "ExecuteTime": {
     "end_time": "2020-03-03T12:09:53.721406Z",
     "start_time": "2020-03-03T12:09:53.704418Z"
    }
   },
   "outputs": [
    {
     "name": "stdout",
     "output_type": "stream",
     "text": [
      "\n",
      "Score: 0.5840891003608704\t \n",
      "Topic: 0.012*\"stori\" + 0.008*\"michael\" + 0.006*\"council\" + 0.006*\"jam\" + 0.006*\"centr\" + 0.006*\"know\" + 0.005*\"govern\" + 0.005*\"money\" + 0.005*\"quiz\" + 0.005*\"ash\"\n",
      "\n",
      "Score: 0.1756652444601059\t \n",
      "Topic: 0.012*\"bushfir\" + 0.010*\"weather\" + 0.008*\"david\" + 0.007*\"northern\" + 0.006*\"queensland\" + 0.006*\"victoria\" + 0.006*\"april\" + 0.005*\"territori\" + 0.005*\"farm\" + 0.005*\"wild\"\n",
      "\n",
      "Score: 0.15267711877822876\t \n",
      "Topic: 0.019*\"charg\" + 0.018*\"murder\" + 0.013*\"court\" + 0.013*\"alleg\" + 0.013*\"polic\" + 0.010*\"woman\" + 0.010*\"jail\" + 0.010*\"sentenc\" + 0.009*\"guilti\" + 0.009*\"accus\"\n",
      "\n",
      "Score: 0.012512458488345146\t \n",
      "Topic: 0.024*\"trump\" + 0.013*\"elect\" + 0.013*\"donald\" + 0.010*\"govern\" + 0.008*\"labor\" + 0.007*\"wednesday\" + 0.007*\"say\" + 0.007*\"thursday\" + 0.007*\"liber\" + 0.006*\"feder\"\n",
      "\n",
      "Score: 0.012511294335126877\t \n",
      "Topic: 0.016*\"news\" + 0.016*\"rural\" + 0.010*\"market\" + 0.010*\"price\" + 0.008*\"busi\" + 0.007*\"nation\" + 0.007*\"scott\" + 0.006*\"share\" + 0.006*\"sport\" + 0.006*\"mental\"\n",
      "\n",
      "Score: 0.012509411200881004\t \n",
      "Topic: 0.008*\"monday\" + 0.008*\"live\" + 0.007*\"protest\" + 0.006*\"kill\" + 0.006*\"australia\" + 0.006*\"presid\" + 0.006*\"turnbul\" + 0.006*\"novemb\" + 0.006*\"indonesia\" + 0.005*\"syria\"\n",
      "\n",
      "Score: 0.012509251944720745\t \n",
      "Topic: 0.018*\"countri\" + 0.013*\"hour\" + 0.011*\"royal\" + 0.010*\"commiss\" + 0.009*\"climat\" + 0.007*\"care\" + 0.006*\"zealand\" + 0.006*\"rugbi\" + 0.006*\"australia\" + 0.006*\"age\"\n",
      "\n",
      "Score: 0.012509125284850597\t \n",
      "Topic: 0.010*\"friday\" + 0.010*\"john\" + 0.009*\"violenc\" + 0.008*\"juli\" + 0.007*\"andrew\" + 0.007*\"august\" + 0.006*\"domest\" + 0.006*\"cancer\" + 0.005*\"flight\" + 0.005*\"patient\"\n",
      "\n",
      "Score: 0.012508826330304146\t \n",
      "Topic: 0.011*\"final\" + 0.010*\"world\" + 0.009*\"australia\" + 0.007*\"leagu\" + 0.007*\"cricket\" + 0.007*\"win\" + 0.007*\"grandstand\" + 0.006*\"open\" + 0.006*\"financ\" + 0.006*\"australian\"\n",
      "\n",
      "Score: 0.01250819955021143\t \n",
      "Topic: 0.017*\"interview\" + 0.016*\"crash\" + 0.013*\"drum\" + 0.010*\"polic\" + 0.009*\"street\" + 0.008*\"tuesday\" + 0.008*\"coast\" + 0.008*\"dead\" + 0.008*\"shoot\" + 0.008*\"christma\"\n"
     ]
    }
   ],
   "source": [
    "for index, score in sorted(lda_model_tfidf[bow_corpus[4310]],\n",
    "                           key=lambda tup: -1 * tup[1]):\n",
    "    print(\"\\nScore: {}\\t \\nTopic: {}\".format(\n",
    "        score, lda_model_tfidf.print_topic(index, 10)))"
   ]
  },
  {
   "cell_type": "markdown",
   "metadata": {},
   "source": [
    "### Testing model on unseen document"
   ]
  },
  {
   "cell_type": "code",
   "execution_count": 73,
   "metadata": {
    "ExecuteTime": {
     "end_time": "2020-03-03T12:10:08.795060Z",
     "start_time": "2020-03-03T12:10:08.778069Z"
    }
   },
   "outputs": [
    {
     "name": "stdout",
     "output_type": "stream",
     "text": [
      "Score: 0.48324039578437805\t Topic: 0.021*\"market\" + 0.020*\"news\" + 0.018*\"women\" + 0.018*\"live\" + 0.016*\"tasmania\"\n",
      "Score: 0.21708554029464722\t Topic: 0.035*\"elect\" + 0.018*\"water\" + 0.017*\"state\" + 0.015*\"tasmanian\" + 0.012*\"labor\"\n",
      "Score: 0.18293601274490356\t Topic: 0.030*\"polic\" + 0.029*\"charg\" + 0.026*\"court\" + 0.024*\"death\" + 0.024*\"murder\"\n",
      "Score: 0.0166776180267334\t Topic: 0.019*\"chang\" + 0.019*\"say\" + 0.015*\"speak\" + 0.015*\"power\" + 0.013*\"worker\"\n",
      "Score: 0.01667742058634758\t Topic: 0.031*\"govern\" + 0.020*\"warn\" + 0.018*\"feder\" + 0.015*\"countri\" + 0.015*\"fund\"\n",
      "Score: 0.016676612198352814\t Topic: 0.023*\"hous\" + 0.022*\"south\" + 0.020*\"north\" + 0.017*\"bushfir\" + 0.016*\"miss\"\n",
      "Score: 0.016676612198352814\t Topic: 0.032*\"kill\" + 0.023*\"shoot\" + 0.021*\"protest\" + 0.021*\"dead\" + 0.020*\"attack\"\n",
      "Score: 0.016676612198352814\t Topic: 0.057*\"australia\" + 0.046*\"australian\" + 0.026*\"world\" + 0.018*\"canberra\" + 0.017*\"test\"\n",
      "Score: 0.016676612198352814\t Topic: 0.020*\"donald\" + 0.014*\"farmer\" + 0.014*\"nation\" + 0.013*\"time\" + 0.013*\"rural\"\n",
      "Score: 0.016676612198352814\t Topic: 0.044*\"trump\" + 0.037*\"year\" + 0.035*\"sydney\" + 0.028*\"queensland\" + 0.022*\"home\"\n"
     ]
    }
   ],
   "source": [
    "unseen_document = 'How a Pentagon deal became an identity crisis for Google'\n",
    "bow_vector = dictionary.doc2bow(preprocess(unseen_document))\n",
    "\n",
    "for index, score in sorted(lda_model[bow_vector], key=lambda tup: -1 * tup[1]):\n",
    "    print(\"Score: {}\\t Topic: {}\".format(score,\n",
    "                                         lda_model.print_topic(index, 5)))"
   ]
  }
 ],
 "metadata": {
  "hide_input": false,
  "kernelspec": {
   "display_name": "Python 3",
   "language": "python",
   "name": "python3"
  },
  "language_info": {
   "codemirror_mode": {
    "name": "ipython",
    "version": 3
   },
   "file_extension": ".py",
   "mimetype": "text/x-python",
   "name": "python",
   "nbconvert_exporter": "python",
   "pygments_lexer": "ipython3",
   "version": "3.7.6"
  },
  "latex_envs": {
   "LaTeX_envs_menu_present": true,
   "autoclose": false,
   "autocomplete": true,
   "bibliofile": "biblio.bib",
   "cite_by": "apalike",
   "current_citInitial": 1,
   "eqLabelWithNumbers": true,
   "eqNumInitial": 1,
   "hotkeys": {
    "equation": "Ctrl-E",
    "itemize": "Ctrl-I"
   },
   "labels_anchors": false,
   "latex_user_defs": false,
   "report_style_numbering": false,
   "user_envs_cfg": false
  },
  "nbTranslate": {
   "displayLangs": [
    "*"
   ],
   "hotkey": "alt-t",
   "langInMainMenu": true,
   "sourceLang": "en",
   "targetLang": "fr",
   "useGoogleTranslate": true
  },
  "toc": {
   "base_numbering": 1,
   "nav_menu": {},
   "number_sections": true,
   "sideBar": true,
   "skip_h1_title": false,
   "title_cell": "Table of Contents",
   "title_sidebar": "Contents",
   "toc_cell": false,
   "toc_position": {},
   "toc_section_display": true,
   "toc_window_display": false
  },
  "varInspector": {
   "cols": {
    "lenName": 16,
    "lenType": 16,
    "lenVar": 40
   },
   "kernels_config": {
    "python": {
     "delete_cmd_postfix": "",
     "delete_cmd_prefix": "del ",
     "library": "var_list.py",
     "varRefreshCmd": "print(var_dic_list())"
    },
    "r": {
     "delete_cmd_postfix": ") ",
     "delete_cmd_prefix": "rm(",
     "library": "var_list.r",
     "varRefreshCmd": "cat(var_dic_list()) "
    }
   },
   "types_to_exclude": [
    "module",
    "function",
    "builtin_function_or_method",
    "instance",
    "_Feature"
   ],
   "window_display": false
  }
 },
 "nbformat": 4,
 "nbformat_minor": 4
}
